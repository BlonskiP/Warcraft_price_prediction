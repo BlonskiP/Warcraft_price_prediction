{
 "cells": [
  {
   "cell_type": "code",
   "execution_count": 2,
   "metadata": {},
   "outputs": [
    {
     "name": "stdout",
     "output_type": "stream",
     "text": [
      "Requirement already satisfied: pytorch_lightning in c:\\programdata\\anaconda3\\lib\\site-packages (1.1.3)\n",
      "Requirement already satisfied: torch>=1.3 in c:\\programdata\\anaconda3\\lib\\site-packages (from pytorch_lightning) (1.7.1)\n",
      "Requirement already satisfied: fsspec[http]>=0.8.1 in c:\\programdata\\anaconda3\\lib\\site-packages (from pytorch_lightning) (0.8.5)\n",
      "Requirement already satisfied: PyYAML>=5.1 in c:\\programdata\\anaconda3\\lib\\site-packages (from pytorch_lightning) (5.3)\n",
      "Requirement already satisfied: tensorboard>=2.2.0 in c:\\programdata\\anaconda3\\lib\\site-packages (from pytorch_lightning) (2.3.0)\n",
      "Requirement already satisfied: future>=0.17.1 in c:\\programdata\\anaconda3\\lib\\site-packages (from pytorch_lightning) (0.18.2)\n",
      "Requirement already satisfied: tqdm>=4.41.0 in c:\\programdata\\anaconda3\\lib\\site-packages (from pytorch_lightning) (4.42.1)\n",
      "Requirement already satisfied: numpy>=1.16.6 in c:\\users\\wilk96\\appdata\\roaming\\python\\python37\\site-packages (from pytorch_lightning) (1.18.4)\n",
      "Requirement already satisfied: typing-extensions in c:\\programdata\\anaconda3\\lib\\site-packages (from torch>=1.3->pytorch_lightning) (3.7.4.3)\n",
      "Requirement already satisfied: aiohttp; extra == \"http\" in c:\\programdata\\anaconda3\\lib\\site-packages (from fsspec[http]>=0.8.1->pytorch_lightning) (3.7.3)\n",
      "Requirement already satisfied: requests; extra == \"http\" in c:\\programdata\\anaconda3\\lib\\site-packages (from fsspec[http]>=0.8.1->pytorch_lightning) (2.22.0)\n",
      "Requirement already satisfied: markdown>=2.6.8 in c:\\programdata\\anaconda3\\lib\\site-packages (from tensorboard>=2.2.0->pytorch_lightning) (3.3.1)\n",
      "Requirement already satisfied: protobuf>=3.6.0 in c:\\programdata\\anaconda3\\lib\\site-packages (from tensorboard>=2.2.0->pytorch_lightning) (3.13.0)\n",
      "Requirement already satisfied: absl-py>=0.4 in c:\\programdata\\anaconda3\\lib\\site-packages (from tensorboard>=2.2.0->pytorch_lightning) (0.11.0)\n",
      "Requirement already satisfied: google-auth-oauthlib<0.5,>=0.4.1 in c:\\programdata\\anaconda3\\lib\\site-packages (from tensorboard>=2.2.0->pytorch_lightning) (0.4.1)\n",
      "Requirement already satisfied: werkzeug>=0.11.15 in c:\\programdata\\anaconda3\\lib\\site-packages (from tensorboard>=2.2.0->pytorch_lightning) (1.0.0)\n",
      "Requirement already satisfied: setuptools>=41.0.0 in c:\\programdata\\anaconda3\\lib\\site-packages (from tensorboard>=2.2.0->pytorch_lightning) (45.2.0.post20200210)\n",
      "Requirement already satisfied: grpcio>=1.24.3 in c:\\programdata\\anaconda3\\lib\\site-packages (from tensorboard>=2.2.0->pytorch_lightning) (1.32.0)\n",
      "Requirement already satisfied: wheel>=0.26; python_version >= \"3\" in c:\\programdata\\anaconda3\\lib\\site-packages (from tensorboard>=2.2.0->pytorch_lightning) (0.34.2)\n",
      "Requirement already satisfied: google-auth<2,>=1.6.3 in c:\\programdata\\anaconda3\\lib\\site-packages (from tensorboard>=2.2.0->pytorch_lightning) (1.22.1)\n",
      "Requirement already satisfied: six>=1.10.0 in c:\\users\\wilk96\\appdata\\roaming\\python\\python37\\site-packages (from tensorboard>=2.2.0->pytorch_lightning) (1.15.0)\n",
      "Requirement already satisfied: tensorboard-plugin-wit>=1.6.0 in c:\\programdata\\anaconda3\\lib\\site-packages (from tensorboard>=2.2.0->pytorch_lightning) (1.7.0)\n",
      "Requirement already satisfied: attrs>=17.3.0 in c:\\programdata\\anaconda3\\lib\\site-packages (from aiohttp; extra == \"http\"->fsspec[http]>=0.8.1->pytorch_lightning) (20.3.0)\n",
      "Requirement already satisfied: multidict<7.0,>=4.5 in c:\\programdata\\anaconda3\\lib\\site-packages (from aiohttp; extra == \"http\"->fsspec[http]>=0.8.1->pytorch_lightning) (4.7.6)\n",
      "Requirement already satisfied: chardet<4.0,>=2.0 in c:\\programdata\\anaconda3\\lib\\site-packages (from aiohttp; extra == \"http\"->fsspec[http]>=0.8.1->pytorch_lightning) (3.0.4)\n",
      "Requirement already satisfied: yarl<2.0,>=1.0 in c:\\programdata\\anaconda3\\lib\\site-packages (from aiohttp; extra == \"http\"->fsspec[http]>=0.8.1->pytorch_lightning) (1.5.1)\n",
      "Requirement already satisfied: async-timeout<4.0,>=3.0 in c:\\programdata\\anaconda3\\lib\\site-packages (from aiohttp; extra == \"http\"->fsspec[http]>=0.8.1->pytorch_lightning) (3.0.1)\n",
      "Requirement already satisfied: idna<2.9,>=2.5 in c:\\programdata\\anaconda3\\lib\\site-packages (from requests; extra == \"http\"->fsspec[http]>=0.8.1->pytorch_lightning) (2.8)\n",
      "Requirement already satisfied: certifi>=2017.4.17 in c:\\programdata\\anaconda3\\lib\\site-packages (from requests; extra == \"http\"->fsspec[http]>=0.8.1->pytorch_lightning) (2019.11.28)\n",
      "Requirement already satisfied: urllib3!=1.25.0,!=1.25.1,<1.26,>=1.21.1 in c:\\programdata\\anaconda3\\lib\\site-packages (from requests; extra == \"http\"->fsspec[http]>=0.8.1->pytorch_lightning) (1.25.8)\n",
      "Requirement already satisfied: importlib-metadata; python_version < \"3.8\" in c:\\users\\wilk96\\appdata\\roaming\\python\\python37\\site-packages (from markdown>=2.6.8->tensorboard>=2.2.0->pytorch_lightning) (3.4.0)\n",
      "Requirement already satisfied: requests-oauthlib>=0.7.0 in c:\\programdata\\anaconda3\\lib\\site-packages (from google-auth-oauthlib<0.5,>=0.4.1->tensorboard>=2.2.0->pytorch_lightning) (1.3.0)\n",
      "Requirement already satisfied: rsa<5,>=3.1.4; python_version >= \"3.5\" in c:\\programdata\\anaconda3\\lib\\site-packages (from google-auth<2,>=1.6.3->tensorboard>=2.2.0->pytorch_lightning) (4.6)\n",
      "Requirement already satisfied: cachetools<5.0,>=2.0.0 in c:\\programdata\\anaconda3\\lib\\site-packages (from google-auth<2,>=1.6.3->tensorboard>=2.2.0->pytorch_lightning) (4.1.1)\n",
      "Requirement already satisfied: pyasn1-modules>=0.2.1 in c:\\programdata\\anaconda3\\lib\\site-packages (from google-auth<2,>=1.6.3->tensorboard>=2.2.0->pytorch_lightning) (0.2.8)\n",
      "Requirement already satisfied: zipp>=0.5 in c:\\programdata\\anaconda3\\lib\\site-packages (from importlib-metadata; python_version < \"3.8\"->markdown>=2.6.8->tensorboard>=2.2.0->pytorch_lightning) (2.2.0)\n",
      "Requirement already satisfied: oauthlib>=3.0.0 in c:\\programdata\\anaconda3\\lib\\site-packages (from requests-oauthlib>=0.7.0->google-auth-oauthlib<0.5,>=0.4.1->tensorboard>=2.2.0->pytorch_lightning) (3.1.0)\n",
      "Requirement already satisfied: pyasn1>=0.1.3 in c:\\programdata\\anaconda3\\lib\\site-packages (from rsa<5,>=3.1.4; python_version >= \"3.5\"->google-auth<2,>=1.6.3->tensorboard>=2.2.0->pytorch_lightning) (0.4.8)\n",
      "Requirement already satisfied: pytorch_forecasting==0.8.2 in c:\\users\\wilk96\\appdata\\roaming\\python\\python37\\site-packages (0.8.2)\n",
      "Requirement already satisfied: matplotlib in c:\\programdata\\anaconda3\\lib\\site-packages (from pytorch_forecasting==0.8.2) (3.1.3)\n",
      "Requirement already satisfied: fsspec<0.9.0,>=0.8.5 in c:\\programdata\\anaconda3\\lib\\site-packages (from pytorch_forecasting==0.8.2) (0.8.5)\n",
      "Requirement already satisfied: torch<2.0,>=1.7 in c:\\programdata\\anaconda3\\lib\\site-packages (from pytorch_forecasting==0.8.2) (1.7.1)\n",
      "Requirement already satisfied: pandas<2.0.0,>=1.1.0 in c:\\programdata\\anaconda3\\lib\\site-packages (from pytorch_forecasting==0.8.2) (1.2.0)\n",
      "Requirement already satisfied: scipy in c:\\programdata\\anaconda3\\lib\\site-packages (from pytorch_forecasting==0.8.2) (1.4.1)\n",
      "Requirement already satisfied: optuna<3.0.0,>=2.3.0 in c:\\programdata\\anaconda3\\lib\\site-packages (from pytorch_forecasting==0.8.2) (2.4.0)\n",
      "Requirement already satisfied: pytorch-lightning<2.0.0,>=1.0.4 in c:\\programdata\\anaconda3\\lib\\site-packages (from pytorch_forecasting==0.8.2) (1.1.3)\n",
      "Requirement already satisfied: scikit-learn<0.25,>=0.23 in c:\\programdata\\anaconda3\\lib\\site-packages (from pytorch_forecasting==0.8.2) (0.24.0)\n",
      "Requirement already satisfied: cloudpickle in c:\\programdata\\anaconda3\\lib\\site-packages (from pytorch_forecasting==0.8.2) (1.3.0)\n",
      "Requirement already satisfied: statsmodels in c:\\programdata\\anaconda3\\lib\\site-packages (from pytorch_forecasting==0.8.2) (0.11.0)\n",
      "Requirement already satisfied: python-dateutil>=2.1 in c:\\programdata\\anaconda3\\lib\\site-packages (from matplotlib->pytorch_forecasting==0.8.2) (2.8.1)\n",
      "Requirement already satisfied: pyparsing!=2.0.4,!=2.1.2,!=2.1.6,>=2.0.1 in c:\\programdata\\anaconda3\\lib\\site-packages (from matplotlib->pytorch_forecasting==0.8.2) (2.4.6)\n",
      "Requirement already satisfied: numpy>=1.11 in c:\\users\\wilk96\\appdata\\roaming\\python\\python37\\site-packages (from matplotlib->pytorch_forecasting==0.8.2) (1.18.4)\n",
      "Requirement already satisfied: kiwisolver>=1.0.1 in c:\\programdata\\anaconda3\\lib\\site-packages (from matplotlib->pytorch_forecasting==0.8.2) (1.1.0)\n",
      "Requirement already satisfied: cycler>=0.10 in c:\\programdata\\anaconda3\\lib\\site-packages (from matplotlib->pytorch_forecasting==0.8.2) (0.10.0)\n",
      "Requirement already satisfied: typing-extensions in c:\\programdata\\anaconda3\\lib\\site-packages (from torch<2.0,>=1.7->pytorch_forecasting==0.8.2) (3.7.4.3)\n",
      "Requirement already satisfied: pytz>=2017.3 in c:\\programdata\\anaconda3\\lib\\site-packages (from pandas<2.0.0,>=1.1.0->pytorch_forecasting==0.8.2) (2019.3)\n",
      "Requirement already satisfied: tqdm in c:\\programdata\\anaconda3\\lib\\site-packages (from optuna<3.0.0,>=2.3.0->pytorch_forecasting==0.8.2) (4.42.1)\n",
      "Requirement already satisfied: joblib in c:\\programdata\\anaconda3\\lib\\site-packages (from optuna<3.0.0,>=2.3.0->pytorch_forecasting==0.8.2) (0.14.1)\n",
      "Requirement already satisfied: sqlalchemy>=1.1.0 in c:\\programdata\\anaconda3\\lib\\site-packages (from optuna<3.0.0,>=2.3.0->pytorch_forecasting==0.8.2) (1.3.13)\n",
      "Requirement already satisfied: colorlog in c:\\programdata\\anaconda3\\lib\\site-packages (from optuna<3.0.0,>=2.3.0->pytorch_forecasting==0.8.2) (4.6.2)\n",
      "Requirement already satisfied: cmaes>=0.6.0 in c:\\programdata\\anaconda3\\lib\\site-packages (from optuna<3.0.0,>=2.3.0->pytorch_forecasting==0.8.2) (0.7.0)\n",
      "Requirement already satisfied: alembic in c:\\programdata\\anaconda3\\lib\\site-packages (from optuna<3.0.0,>=2.3.0->pytorch_forecasting==0.8.2) (1.4.3)\n",
      "Requirement already satisfied: cliff in c:\\programdata\\anaconda3\\lib\\site-packages (from optuna<3.0.0,>=2.3.0->pytorch_forecasting==0.8.2) (3.5.0)\n",
      "Requirement already satisfied: packaging>=20.0 in c:\\programdata\\anaconda3\\lib\\site-packages (from optuna<3.0.0,>=2.3.0->pytorch_forecasting==0.8.2) (20.1)\n",
      "Requirement already satisfied: PyYAML>=5.1 in c:\\programdata\\anaconda3\\lib\\site-packages (from pytorch-lightning<2.0.0,>=1.0.4->pytorch_forecasting==0.8.2) (5.3)\n",
      "Requirement already satisfied: tensorboard>=2.2.0 in c:\\programdata\\anaconda3\\lib\\site-packages (from pytorch-lightning<2.0.0,>=1.0.4->pytorch_forecasting==0.8.2) (2.3.0)\n",
      "Requirement already satisfied: future>=0.17.1 in c:\\programdata\\anaconda3\\lib\\site-packages (from pytorch-lightning<2.0.0,>=1.0.4->pytorch_forecasting==0.8.2) (0.18.2)\n",
      "Requirement already satisfied: threadpoolctl>=2.0.0 in c:\\programdata\\anaconda3\\lib\\site-packages (from scikit-learn<0.25,>=0.23->pytorch_forecasting==0.8.2) (2.1.0)\n",
      "Requirement already satisfied: patsy>=0.5 in c:\\programdata\\anaconda3\\lib\\site-packages (from statsmodels->pytorch_forecasting==0.8.2) (0.5.1)\n",
      "Requirement already satisfied: six>=1.5 in c:\\users\\wilk96\\appdata\\roaming\\python\\python37\\site-packages (from python-dateutil>=2.1->matplotlib->pytorch_forecasting==0.8.2) (1.15.0)\n",
      "Requirement already satisfied: setuptools in c:\\programdata\\anaconda3\\lib\\site-packages (from kiwisolver>=1.0.1->matplotlib->pytorch_forecasting==0.8.2) (45.2.0.post20200210)\n",
      "Requirement already satisfied: colorama; sys_platform == \"win32\" in c:\\programdata\\anaconda3\\lib\\site-packages (from colorlog->optuna<3.0.0,>=2.3.0->pytorch_forecasting==0.8.2) (0.4.3)\n",
      "Requirement already satisfied: Mako in c:\\programdata\\anaconda3\\lib\\site-packages (from alembic->optuna<3.0.0,>=2.3.0->pytorch_forecasting==0.8.2) (1.1.3)\n",
      "Requirement already satisfied: python-editor>=0.3 in c:\\programdata\\anaconda3\\lib\\site-packages (from alembic->optuna<3.0.0,>=2.3.0->pytorch_forecasting==0.8.2) (1.0.4)\n",
      "Requirement already satisfied: PrettyTable<0.8,>=0.7.2 in c:\\programdata\\anaconda3\\lib\\site-packages (from cliff->optuna<3.0.0,>=2.3.0->pytorch_forecasting==0.8.2) (0.7.2)\n",
      "Requirement already satisfied: cmd2!=0.8.3,>=0.8.0 in c:\\programdata\\anaconda3\\lib\\site-packages (from cliff->optuna<3.0.0,>=2.3.0->pytorch_forecasting==0.8.2) (1.4.0)\n",
      "Requirement already satisfied: stevedore>=2.0.1 in c:\\programdata\\anaconda3\\lib\\site-packages (from cliff->optuna<3.0.0,>=2.3.0->pytorch_forecasting==0.8.2) (3.3.0)\n",
      "Requirement already satisfied: pbr!=2.1.0,>=2.0.0 in c:\\programdata\\anaconda3\\lib\\site-packages (from cliff->optuna<3.0.0,>=2.3.0->pytorch_forecasting==0.8.2) (5.5.1)\n",
      "Requirement already satisfied: markdown>=2.6.8 in c:\\programdata\\anaconda3\\lib\\site-packages (from tensorboard>=2.2.0->pytorch-lightning<2.0.0,>=1.0.4->pytorch_forecasting==0.8.2) (3.3.1)\n",
      "Requirement already satisfied: grpcio>=1.24.3 in c:\\programdata\\anaconda3\\lib\\site-packages (from tensorboard>=2.2.0->pytorch-lightning<2.0.0,>=1.0.4->pytorch_forecasting==0.8.2) (1.32.0)\n",
      "Requirement already satisfied: wheel>=0.26; python_version >= \"3\" in c:\\programdata\\anaconda3\\lib\\site-packages (from tensorboard>=2.2.0->pytorch-lightning<2.0.0,>=1.0.4->pytorch_forecasting==0.8.2) (0.34.2)\n",
      "Requirement already satisfied: requests<3,>=2.21.0 in c:\\programdata\\anaconda3\\lib\\site-packages (from tensorboard>=2.2.0->pytorch-lightning<2.0.0,>=1.0.4->pytorch_forecasting==0.8.2) (2.22.0)\n",
      "Requirement already satisfied: google-auth-oauthlib<0.5,>=0.4.1 in c:\\programdata\\anaconda3\\lib\\site-packages (from tensorboard>=2.2.0->pytorch-lightning<2.0.0,>=1.0.4->pytorch_forecasting==0.8.2) (0.4.1)\n",
      "Requirement already satisfied: werkzeug>=0.11.15 in c:\\programdata\\anaconda3\\lib\\site-packages (from tensorboard>=2.2.0->pytorch-lightning<2.0.0,>=1.0.4->pytorch_forecasting==0.8.2) (1.0.0)\n",
      "Requirement already satisfied: absl-py>=0.4 in c:\\programdata\\anaconda3\\lib\\site-packages (from tensorboard>=2.2.0->pytorch-lightning<2.0.0,>=1.0.4->pytorch_forecasting==0.8.2) (0.11.0)\n",
      "Requirement already satisfied: protobuf>=3.6.0 in c:\\programdata\\anaconda3\\lib\\site-packages (from tensorboard>=2.2.0->pytorch-lightning<2.0.0,>=1.0.4->pytorch_forecasting==0.8.2) (3.13.0)\n",
      "Requirement already satisfied: google-auth<2,>=1.6.3 in c:\\programdata\\anaconda3\\lib\\site-packages (from tensorboard>=2.2.0->pytorch-lightning<2.0.0,>=1.0.4->pytorch_forecasting==0.8.2) (1.22.1)\n",
      "Requirement already satisfied: tensorboard-plugin-wit>=1.6.0 in c:\\programdata\\anaconda3\\lib\\site-packages (from tensorboard>=2.2.0->pytorch-lightning<2.0.0,>=1.0.4->pytorch_forecasting==0.8.2) (1.7.0)\n",
      "Requirement already satisfied: MarkupSafe>=0.9.2 in c:\\programdata\\anaconda3\\lib\\site-packages (from Mako->alembic->optuna<3.0.0,>=2.3.0->pytorch_forecasting==0.8.2) (1.1.1)\n",
      "Requirement already satisfied: importlib-metadata>=1.6.0; python_version < \"3.8\" in c:\\users\\wilk96\\appdata\\roaming\\python\\python37\\site-packages (from cmd2!=0.8.3,>=0.8.0->cliff->optuna<3.0.0,>=2.3.0->pytorch_forecasting==0.8.2) (3.4.0)\n",
      "Requirement already satisfied: pyreadline; sys_platform == \"win32\" in c:\\programdata\\anaconda3\\lib\\site-packages (from cmd2!=0.8.3,>=0.8.0->cliff->optuna<3.0.0,>=2.3.0->pytorch_forecasting==0.8.2) (2.1)\n",
      "Requirement already satisfied: attrs>=16.3.0 in c:\\programdata\\anaconda3\\lib\\site-packages (from cmd2!=0.8.3,>=0.8.0->cliff->optuna<3.0.0,>=2.3.0->pytorch_forecasting==0.8.2) (20.3.0)\n",
      "Requirement already satisfied: pyperclip>=1.6 in c:\\programdata\\anaconda3\\lib\\site-packages (from cmd2!=0.8.3,>=0.8.0->cliff->optuna<3.0.0,>=2.3.0->pytorch_forecasting==0.8.2) (1.8.1)\n",
      "Requirement already satisfied: wcwidth>=0.1.7 in c:\\programdata\\anaconda3\\lib\\site-packages (from cmd2!=0.8.3,>=0.8.0->cliff->optuna<3.0.0,>=2.3.0->pytorch_forecasting==0.8.2) (0.1.8)\n",
      "Requirement already satisfied: urllib3!=1.25.0,!=1.25.1,<1.26,>=1.21.1 in c:\\programdata\\anaconda3\\lib\\site-packages (from requests<3,>=2.21.0->tensorboard>=2.2.0->pytorch-lightning<2.0.0,>=1.0.4->pytorch_forecasting==0.8.2) (1.25.8)\n",
      "Requirement already satisfied: certifi>=2017.4.17 in c:\\programdata\\anaconda3\\lib\\site-packages (from requests<3,>=2.21.0->tensorboard>=2.2.0->pytorch-lightning<2.0.0,>=1.0.4->pytorch_forecasting==0.8.2) (2019.11.28)\n",
      "Requirement already satisfied: idna<2.9,>=2.5 in c:\\programdata\\anaconda3\\lib\\site-packages (from requests<3,>=2.21.0->tensorboard>=2.2.0->pytorch-lightning<2.0.0,>=1.0.4->pytorch_forecasting==0.8.2) (2.8)\n",
      "Requirement already satisfied: chardet<3.1.0,>=3.0.2 in c:\\programdata\\anaconda3\\lib\\site-packages (from requests<3,>=2.21.0->tensorboard>=2.2.0->pytorch-lightning<2.0.0,>=1.0.4->pytorch_forecasting==0.8.2) (3.0.4)\n",
      "Requirement already satisfied: requests-oauthlib>=0.7.0 in c:\\programdata\\anaconda3\\lib\\site-packages (from google-auth-oauthlib<0.5,>=0.4.1->tensorboard>=2.2.0->pytorch-lightning<2.0.0,>=1.0.4->pytorch_forecasting==0.8.2) (1.3.0)\n",
      "Requirement already satisfied: pyasn1-modules>=0.2.1 in c:\\programdata\\anaconda3\\lib\\site-packages (from google-auth<2,>=1.6.3->tensorboard>=2.2.0->pytorch-lightning<2.0.0,>=1.0.4->pytorch_forecasting==0.8.2) (0.2.8)\n",
      "Requirement already satisfied: rsa<5,>=3.1.4; python_version >= \"3.5\" in c:\\programdata\\anaconda3\\lib\\site-packages (from google-auth<2,>=1.6.3->tensorboard>=2.2.0->pytorch-lightning<2.0.0,>=1.0.4->pytorch_forecasting==0.8.2) (4.6)\n",
      "Requirement already satisfied: cachetools<5.0,>=2.0.0 in c:\\programdata\\anaconda3\\lib\\site-packages (from google-auth<2,>=1.6.3->tensorboard>=2.2.0->pytorch-lightning<2.0.0,>=1.0.4->pytorch_forecasting==0.8.2) (4.1.1)\n",
      "Requirement already satisfied: zipp>=0.5 in c:\\programdata\\anaconda3\\lib\\site-packages (from importlib-metadata>=1.6.0; python_version < \"3.8\"->cmd2!=0.8.3,>=0.8.0->cliff->optuna<3.0.0,>=2.3.0->pytorch_forecasting==0.8.2) (2.2.0)\n",
      "Requirement already satisfied: oauthlib>=3.0.0 in c:\\programdata\\anaconda3\\lib\\site-packages (from requests-oauthlib>=0.7.0->google-auth-oauthlib<0.5,>=0.4.1->tensorboard>=2.2.0->pytorch-lightning<2.0.0,>=1.0.4->pytorch_forecasting==0.8.2) (3.1.0)\n",
      "Requirement already satisfied: pyasn1<0.5.0,>=0.4.6 in c:\\programdata\\anaconda3\\lib\\site-packages (from pyasn1-modules>=0.2.1->google-auth<2,>=1.6.3->tensorboard>=2.2.0->pytorch-lightning<2.0.0,>=1.0.4->pytorch_forecasting==0.8.2) (0.4.8)\n"
     ]
    }
   ],
   "source": [
    "!pip install pytorch_lightning --user\n",
    "!pip install pytorch_forecasting==0.8.2 --user"
   ]
  },
  {
   "cell_type": "code",
   "execution_count": 3,
   "metadata": {},
   "outputs": [
    {
     "name": "stderr",
     "output_type": "stream",
     "text": [
      "  % Total    % Received % Xferd  Average Speed   Time    Time     Time  Current\n",
      "                                 Dload  Upload   Total   Spent    Left  Speed\n",
      "\n",
      "  0     0    0     0    0     0      0      0 --:--:-- --:--:-- --:--:--     0\n",
      "  1 22.1M    1  299k    0     0   589k      0  0:00:38 --:--:--  0:00:38  587k\n",
      " 21 22.1M   21 4827k    0     0  3199k      0  0:00:07  0:00:01  0:00:06 3197k\n",
      " 33 22.1M   33 7643k    0     0  3044k      0  0:00:07  0:00:02  0:00:05 3044k\n",
      " 41 22.1M   41 9515k    0     0  2711k      0  0:00:08  0:00:03  0:00:05 2711k\n",
      " 55 22.1M   55 12.3M    0     0  2796k      0  0:00:08  0:00:04  0:00:04 2796k\n",
      " 67 22.1M   67 14.8M    0     0  2760k      0  0:00:08  0:00:05  0:00:03 2982k\n",
      " 79 22.1M   79 17.5M    0     0  2764k      0  0:00:08  0:00:06  0:00:02 2633k\n",
      " 90 22.1M   90 20.0M    0     0  2737k      0  0:00:08  0:00:07  0:00:01 2582k\n",
      "100 22.1M  100 22.1M    0     0  2715k      0  0:00:08  0:00:08 --:--:-- 2718k\n"
     ]
    },
    {
     "data": {
      "text/plain": [
       "666"
      ]
     },
     "execution_count": 3,
     "metadata": {},
     "output_type": "execute_result"
    }
   ],
   "source": [
    "import os\n",
    "import warnings\n",
    "warnings.filterwarnings(\"ignore\")\n",
    "from pathlib import Path\n",
    "import warnings\n",
    "import datetime\n",
    "import numpy as np\n",
    "import pandas as pd\n",
    "import pytorch_lightning as pl\n",
    "from pytorch_lightning.callbacks import EarlyStopping, LearningRateMonitor\n",
    "from pytorch_lightning.loggers import TensorBoardLogger\n",
    "import torch\n",
    "import pickle\n",
    "from pytorch_forecasting import Baseline, TemporalFusionTransformer, TimeSeriesDataSet\n",
    "from pytorch_forecasting.data import GroupNormalizer\n",
    "from pytorch_forecasting.metrics import SMAPE, PoissonLoss, QuantileLoss\n",
    "from pytorch_forecasting.models.temporal_fusion_transformer.tuning import optimize_hyperparameters\n",
    "!curl https://raw.githubusercontent.com/BlonskiP/Warcraft_price_prediction/main/Token-prices.csv -o Token-prices.csv\n",
    "pl.seed_everything(666)"
   ]
  },
  {
   "cell_type": "code",
   "execution_count": 4,
   "metadata": {},
   "outputs": [],
   "source": [
    "def between_week(date,dates):\n",
    "  date=pd.to_datetime(date)\n",
    "  for start_date in dates:\n",
    "    start_date = pd.to_datetime(start_date)\n",
    "    week = datetime.timedelta(weeks=1)\n",
    "    end_date = pd.to_datetime(start_date)+week\n",
    "    if date >= pd.to_datetime(start_date) and date <= end_date:\n",
    "      return 1 \n",
    "  return 0"
   ]
  },
  {
   "cell_type": "code",
   "execution_count": 5,
   "metadata": {},
   "outputs": [],
   "source": [
    "expansion_realise_dates=['2014-11-13','2016-08-30','2018-08-13','2020-08-26']"
   ]
  },
  {
   "cell_type": "code",
   "execution_count": 6,
   "metadata": {},
   "outputs": [],
   "source": [
    "df = pd.read_csv('Token-prices.csv')\n",
    "data=pd.DataFrame({'price':df['current_price'],\n",
    "                   'time_idx':df.index,\n",
    "                   'date':df.date,\n",
    "                   'day_of_week':df.day,\n",
    "                   'hour':df.hour,\n",
    "                   'change':df.last_change,\n",
    "                   'month':pd.to_datetime(df.date).dt.month,\n",
    "                   'year':pd.to_datetime(df.date).dt.year,\n",
    "                   'group':0,\n",
    "                   'avg_7':df['7_day_mean'],\n",
    "                   'avg_30':df['30_day_mean'],\n",
    "                   'expansion_week':df.date.apply(lambda x: between_week(x,expansion_realise_dates))})\n"
   ]
  },
  {
   "cell_type": "code",
   "execution_count": 7,
   "metadata": {},
   "outputs": [
    {
     "data": {
      "text/plain": [
       "str"
      ]
     },
     "execution_count": 7,
     "metadata": {},
     "output_type": "execute_result"
    }
   ],
   "source": [
    "data.day_of_week=data.day_of_week.astype('category')\n",
    "data.hour=data.hour.astype('category').apply(str)\n",
    "data.group=data.group.astype('category').apply(str)\n",
    "data.day_of_week=data.day_of_week.astype('category').apply(str)\n",
    "data.month=data.month.astype('category').apply(str)\n",
    "data.year=data.year.astype('category').apply(str)\n",
    "data.expansion_week=data.expansion_week.astype('category').apply(str)\n",
    "type(data.hour[0])"
   ]
  },
  {
   "cell_type": "code",
   "execution_count": 8,
   "metadata": {},
   "outputs": [],
   "source": [
    "max_prediction_length = 3*24 #1 day of samples\n",
    "max_encoder_length = 500\n",
    "training_cutoff = data[\"time_idx\"].max() - max_prediction_length"
   ]
  },
  {
   "cell_type": "code",
   "execution_count": 9,
   "metadata": {},
   "outputs": [],
   "source": [
    "training = TimeSeriesDataSet(\n",
    "    data[lambda x: x.time_idx <= training_cutoff],\n",
    "    time_idx=\"time_idx\",\n",
    "    target=\"price\",\n",
    "    group_ids=[\"group\"],\n",
    "    min_encoder_length=max_encoder_length // 2,  # keep encoder length long (as it is in the validation set)\n",
    "    max_encoder_length=max_encoder_length,\n",
    "    min_prediction_length=1,\n",
    "    max_prediction_length=max_prediction_length,\n",
    "    static_categoricals=[\"group\"],\n",
    "    static_reals=[],\n",
    "    time_varying_known_categoricals=[\"day_of_week\", \"hour\",\"expansion_week\",'month','year'],\n",
    "    variable_groups={},  # group of categorical variables can be treated as one variable\n",
    "    time_varying_known_reals=[\"time_idx\"],\n",
    "    time_varying_unknown_categoricals=[],\n",
    "    time_varying_unknown_reals=[\n",
    "        \"price\",\n",
    "        \"change\",\n",
    "        'avg_7',\n",
    "        'avg_30'\n",
    "    ],\n",
    "    target_normalizer=GroupNormalizer(\n",
    "        groups=[\"group\"], transformation=\"softplus\"\n",
    "    ),  # use softplus and normalize by group\n",
    "    add_relative_time_idx=True,\n",
    "    add_target_scales=True,\n",
    "    add_encoder_length=True,\n",
    ")"
   ]
  },
  {
   "cell_type": "code",
   "execution_count": 10,
   "metadata": {},
   "outputs": [],
   "source": [
    "validation = TimeSeriesDataSet.from_dataset(training, data, predict=True, stop_randomization=True)\n",
    "batch_size = 128  # set this between 32 to 128\n",
    "train_dataloader = training.to_dataloader(train=True, batch_size=batch_size, num_workers=0)\n",
    "val_dataloader = validation.to_dataloader(train=False, batch_size=batch_size * 10, num_workers=0)"
   ]
  },
  {
   "cell_type": "code",
   "execution_count": 11,
   "metadata": {},
   "outputs": [
    {
     "data": {
      "text/plain": [
       "3811.02783203125"
      ]
     },
     "execution_count": 11,
     "metadata": {},
     "output_type": "execute_result"
    }
   ],
   "source": [
    "actuals = torch.cat([y for x, (y, weight) in iter(val_dataloader)])\n",
    "baseline_predictions = Baseline().predict(val_dataloader)\n",
    "(actuals - baseline_predictions).abs().mean().item()\n"
   ]
  },
  {
   "cell_type": "code",
   "execution_count": 12,
   "metadata": {},
   "outputs": [
    {
     "name": "stderr",
     "output_type": "stream",
     "text": [
      "GPU available: False, used: False\n",
      "TPU available: None, using: 0 TPU cores\n"
     ]
    }
   ],
   "source": [
    "trainer = pl.Trainer(\n",
    "    gpus=0, # clipping gradients is a hyperparameter and important to prevent divergance # of the gradient for recurrent neural networks\n",
    "    gradient_clip_val=0.1,\n",
    ")"
   ]
  },
  {
   "cell_type": "code",
   "execution_count": 13,
   "metadata": {},
   "outputs": [
    {
     "name": "stdout",
     "output_type": "stream",
     "text": [
      "Number of parameters in network: 23.2k\n"
     ]
    }
   ],
   "source": [
    "tft = TemporalFusionTransformer.from_dataset(\n",
    "    training,# not meaningful for finding the learning rate but otherwise very important\n",
    "    learning_rate=0.03,\n",
    "    hidden_size=16,  # most important hyperparameter apart from learning rate   \n",
    "    attention_head_size=1, # number of attention heads. Set to up to 4 for large datasets\n",
    "    dropout=0.1,  # between 0.1 and 0.3 are good values\n",
    "    hidden_continuous_size=8,  # set to <= hidden_size\n",
    "    output_size=7,  # 7 quantiles by default\n",
    "    loss=QuantileLoss(),\n",
    "    reduce_on_plateau_patience=4,# reduce learning rate if no improvement in validation loss after x epochs\n",
    ")\n",
    "print(f\"Number of parameters in network: {tft.size()/1e3:.1f}k\")"
   ]
  },
  {
   "cell_type": "code",
   "execution_count": 14,
   "metadata": {},
   "outputs": [
    {
     "name": "stderr",
     "output_type": "stream",
     "text": [
      "\n",
      "   | Name                               | Type                            | Params\n",
      "----------------------------------------------------------------------------------------\n",
      "0  | loss                               | QuantileLoss                    | 0     \n",
      "1  | logging_metrics                    | ModuleList                      | 0     \n",
      "2  | input_embeddings                   | MultiEmbedding                  | 361   \n",
      "3  | prescalers                         | ModuleDict                      | 144   \n",
      "4  | static_variable_selection          | VariableSelectionNetwork        | 1.8 K \n",
      "5  | encoder_variable_selection         | VariableSelectionNetwork        | 4.9 K \n",
      "6  | decoder_variable_selection         | VariableSelectionNetwork        | 1.9 K \n",
      "7  | static_context_variable_selection  | GatedResidualNetwork            | 1.1 K \n",
      "8  | static_context_initial_hidden_lstm | GatedResidualNetwork            | 1.1 K \n",
      "9  | static_context_initial_cell_lstm   | GatedResidualNetwork            | 1.1 K \n",
      "10 | static_context_enrichment          | GatedResidualNetwork            | 1.1 K \n",
      "11 | lstm_encoder                       | LSTM                            | 2.2 K \n",
      "12 | lstm_decoder                       | LSTM                            | 2.2 K \n",
      "13 | post_lstm_gate_encoder             | GatedLinearUnit                 | 544   \n",
      "14 | post_lstm_add_norm_encoder         | AddNorm                         | 32    \n",
      "15 | static_enrichment                  | GatedResidualNetwork            | 1.4 K \n",
      "16 | multihead_attn                     | InterpretableMultiHeadAttention | 1.1 K \n",
      "17 | post_attn_gate_norm                | GateAddNorm                     | 576   \n",
      "18 | pos_wise_ff                        | GatedResidualNetwork            | 1.1 K \n",
      "19 | pre_output_gate_norm               | GateAddNorm                     | 576   \n",
      "20 | output_layer                       | Linear                          | 119   \n",
      "----------------------------------------------------------------------------------------\n",
      "23.2 K    Trainable params\n",
      "0         Non-trainable params\n",
      "23.2 K    Total params\n"
     ]
    },
    {
     "data": {
      "application/vnd.jupyter.widget-view+json": {
       "model_id": "41d7de6945c242a0b4a920afaa74dcda",
       "version_major": 2,
       "version_minor": 0
      },
      "text/plain": [
       "HBox(children=(FloatProgress(value=0.0, description='Finding best initial lr', style=ProgressStyle(description…"
      ]
     },
     "metadata": {},
     "output_type": "display_data"
    },
    {
     "name": "stderr",
     "output_type": "stream",
     "text": [
      "Restored states from the checkpoint file at C:\\Users\\Wilk96\\Warcraft_price_prediction\\lr_find_temp_model.ckpt\n"
     ]
    }
   ],
   "source": [
    "res = trainer.tuner.lr_find(\n",
    "    tft,\n",
    "    train_dataloader=train_dataloader,\n",
    "    val_dataloaders=val_dataloader,\n",
    "    max_lr=10.0,\n",
    "    min_lr=1e-6,\n",
    ")"
   ]
  },
  {
   "cell_type": "code",
   "execution_count": 15,
   "metadata": {},
   "outputs": [
    {
     "name": "stderr",
     "output_type": "stream",
     "text": [
      "GPU available: False, used: False\n",
      "TPU available: None, using: 0 TPU cores\n"
     ]
    }
   ],
   "source": [
    "early_stop_callback = EarlyStopping(monitor=\"val_loss\", min_delta=1e-4, patience=10, verbose=False, mode=\"min\")\n",
    "lr_logger = LearningRateMonitor()  # log the learning rate\n",
    "logger = TensorBoardLogger(\"lightning_logs\")  # logging results to a tensorboard\n",
    "\n",
    "trainer = pl.Trainer(\n",
    "    max_epochs=30,\n",
    "    gpus=0,\n",
    "    weights_summary=\"top\",\n",
    "    gradient_clip_val=0.1,\n",
    "    limit_train_batches=30,  # coment in for training, running valiation every 30 batches\n",
    "    # fast_dev_run=True,  # comment in to check that networkor dataset has no serious bugs\n",
    "    callbacks=[lr_logger, early_stop_callback],\n",
    "    logger=logger,\n",
    ")"
   ]
  },
  {
   "cell_type": "code",
   "execution_count": 16,
   "metadata": {},
   "outputs": [
    {
     "name": "stderr",
     "output_type": "stream",
     "text": [
      "\n",
      "   | Name                               | Type                            | Params\n",
      "----------------------------------------------------------------------------------------\n",
      "0  | loss                               | QuantileLoss                    | 0     \n",
      "1  | logging_metrics                    | ModuleList                      | 0     \n",
      "2  | input_embeddings                   | MultiEmbedding                  | 361   \n",
      "3  | prescalers                         | ModuleDict                      | 144   \n",
      "4  | static_variable_selection          | VariableSelectionNetwork        | 1.8 K \n",
      "5  | encoder_variable_selection         | VariableSelectionNetwork        | 4.9 K \n",
      "6  | decoder_variable_selection         | VariableSelectionNetwork        | 1.9 K \n",
      "7  | static_context_variable_selection  | GatedResidualNetwork            | 1.1 K \n",
      "8  | static_context_initial_hidden_lstm | GatedResidualNetwork            | 1.1 K \n",
      "9  | static_context_initial_cell_lstm   | GatedResidualNetwork            | 1.1 K \n",
      "10 | static_context_enrichment          | GatedResidualNetwork            | 1.1 K \n",
      "11 | lstm_encoder                       | LSTM                            | 2.2 K \n",
      "12 | lstm_decoder                       | LSTM                            | 2.2 K \n",
      "13 | post_lstm_gate_encoder             | GatedLinearUnit                 | 544   \n",
      "14 | post_lstm_add_norm_encoder         | AddNorm                         | 32    \n",
      "15 | static_enrichment                  | GatedResidualNetwork            | 1.4 K \n",
      "16 | multihead_attn                     | InterpretableMultiHeadAttention | 1.1 K \n",
      "17 | post_attn_gate_norm                | GateAddNorm                     | 576   \n",
      "18 | pos_wise_ff                        | GatedResidualNetwork            | 1.1 K \n",
      "19 | pre_output_gate_norm               | GateAddNorm                     | 576   \n",
      "20 | output_layer                       | Linear                          | 119   \n",
      "----------------------------------------------------------------------------------------\n",
      "23.2 K    Trainable params\n",
      "0         Non-trainable params\n",
      "23.2 K    Total params\n"
     ]
    },
    {
     "data": {
      "application/vnd.jupyter.widget-view+json": {
       "model_id": "",
       "version_major": 2,
       "version_minor": 0
      },
      "text/plain": [
       "HBox(children=(FloatProgress(value=1.0, bar_style='info', description='Validation sanity check', layout=Layout…"
      ]
     },
     "metadata": {},
     "output_type": "display_data"
    },
    {
     "name": "stdout",
     "output_type": "stream",
     "text": [
      "\r"
     ]
    },
    {
     "data": {
      "application/vnd.jupyter.widget-view+json": {
       "model_id": "afe14fc806c947f986d4e0dc0d5d1b21",
       "version_major": 2,
       "version_minor": 0
      },
      "text/plain": [
       "HBox(children=(FloatProgress(value=1.0, bar_style='info', description='Training', layout=Layout(flex='2'), max…"
      ]
     },
     "metadata": {},
     "output_type": "display_data"
    },
    {
     "data": {
      "application/vnd.jupyter.widget-view+json": {
       "model_id": "",
       "version_major": 2,
       "version_minor": 0
      },
      "text/plain": [
       "HBox(children=(FloatProgress(value=1.0, bar_style='info', description='Validating', layout=Layout(flex='2'), m…"
      ]
     },
     "metadata": {},
     "output_type": "display_data"
    },
    {
     "data": {
      "application/vnd.jupyter.widget-view+json": {
       "model_id": "",
       "version_major": 2,
       "version_minor": 0
      },
      "text/plain": [
       "HBox(children=(FloatProgress(value=1.0, bar_style='info', description='Validating', layout=Layout(flex='2'), m…"
      ]
     },
     "metadata": {},
     "output_type": "display_data"
    },
    {
     "data": {
      "application/vnd.jupyter.widget-view+json": {
       "model_id": "",
       "version_major": 2,
       "version_minor": 0
      },
      "text/plain": [
       "HBox(children=(FloatProgress(value=1.0, bar_style='info', description='Validating', layout=Layout(flex='2'), m…"
      ]
     },
     "metadata": {},
     "output_type": "display_data"
    },
    {
     "data": {
      "application/vnd.jupyter.widget-view+json": {
       "model_id": "",
       "version_major": 2,
       "version_minor": 0
      },
      "text/plain": [
       "HBox(children=(FloatProgress(value=1.0, bar_style='info', description='Validating', layout=Layout(flex='2'), m…"
      ]
     },
     "metadata": {},
     "output_type": "display_data"
    },
    {
     "data": {
      "application/vnd.jupyter.widget-view+json": {
       "model_id": "",
       "version_major": 2,
       "version_minor": 0
      },
      "text/plain": [
       "HBox(children=(FloatProgress(value=1.0, bar_style='info', description='Validating', layout=Layout(flex='2'), m…"
      ]
     },
     "metadata": {},
     "output_type": "display_data"
    },
    {
     "data": {
      "application/vnd.jupyter.widget-view+json": {
       "model_id": "",
       "version_major": 2,
       "version_minor": 0
      },
      "text/plain": [
       "HBox(children=(FloatProgress(value=1.0, bar_style='info', description='Validating', layout=Layout(flex='2'), m…"
      ]
     },
     "metadata": {},
     "output_type": "display_data"
    },
    {
     "data": {
      "application/vnd.jupyter.widget-view+json": {
       "model_id": "",
       "version_major": 2,
       "version_minor": 0
      },
      "text/plain": [
       "HBox(children=(FloatProgress(value=1.0, bar_style='info', description='Validating', layout=Layout(flex='2'), m…"
      ]
     },
     "metadata": {},
     "output_type": "display_data"
    },
    {
     "data": {
      "application/vnd.jupyter.widget-view+json": {
       "model_id": "",
       "version_major": 2,
       "version_minor": 0
      },
      "text/plain": [
       "HBox(children=(FloatProgress(value=1.0, bar_style='info', description='Validating', layout=Layout(flex='2'), m…"
      ]
     },
     "metadata": {},
     "output_type": "display_data"
    },
    {
     "data": {
      "application/vnd.jupyter.widget-view+json": {
       "model_id": "",
       "version_major": 2,
       "version_minor": 0
      },
      "text/plain": [
       "HBox(children=(FloatProgress(value=1.0, bar_style='info', description='Validating', layout=Layout(flex='2'), m…"
      ]
     },
     "metadata": {},
     "output_type": "display_data"
    },
    {
     "data": {
      "application/vnd.jupyter.widget-view+json": {
       "model_id": "",
       "version_major": 2,
       "version_minor": 0
      },
      "text/plain": [
       "HBox(children=(FloatProgress(value=1.0, bar_style='info', description='Validating', layout=Layout(flex='2'), m…"
      ]
     },
     "metadata": {},
     "output_type": "display_data"
    },
    {
     "data": {
      "application/vnd.jupyter.widget-view+json": {
       "model_id": "",
       "version_major": 2,
       "version_minor": 0
      },
      "text/plain": [
       "HBox(children=(FloatProgress(value=1.0, bar_style='info', description='Validating', layout=Layout(flex='2'), m…"
      ]
     },
     "metadata": {},
     "output_type": "display_data"
    },
    {
     "data": {
      "application/vnd.jupyter.widget-view+json": {
       "model_id": "",
       "version_major": 2,
       "version_minor": 0
      },
      "text/plain": [
       "HBox(children=(FloatProgress(value=1.0, bar_style='info', description='Validating', layout=Layout(flex='2'), m…"
      ]
     },
     "metadata": {},
     "output_type": "display_data"
    },
    {
     "data": {
      "application/vnd.jupyter.widget-view+json": {
       "model_id": "",
       "version_major": 2,
       "version_minor": 0
      },
      "text/plain": [
       "HBox(children=(FloatProgress(value=1.0, bar_style='info', description='Validating', layout=Layout(flex='2'), m…"
      ]
     },
     "metadata": {},
     "output_type": "display_data"
    },
    {
     "data": {
      "application/vnd.jupyter.widget-view+json": {
       "model_id": "",
       "version_major": 2,
       "version_minor": 0
      },
      "text/plain": [
       "HBox(children=(FloatProgress(value=1.0, bar_style='info', description='Validating', layout=Layout(flex='2'), m…"
      ]
     },
     "metadata": {},
     "output_type": "display_data"
    },
    {
     "data": {
      "application/vnd.jupyter.widget-view+json": {
       "model_id": "",
       "version_major": 2,
       "version_minor": 0
      },
      "text/plain": [
       "HBox(children=(FloatProgress(value=1.0, bar_style='info', description='Validating', layout=Layout(flex='2'), m…"
      ]
     },
     "metadata": {},
     "output_type": "display_data"
    },
    {
     "name": "stdout",
     "output_type": "stream",
     "text": [
      "\n"
     ]
    },
    {
     "data": {
      "text/plain": [
       "1"
      ]
     },
     "execution_count": 16,
     "metadata": {},
     "output_type": "execute_result"
    }
   ],
   "source": [
    "trainer.fit(\n",
    "    tft,\n",
    "    train_dataloader=train_dataloader,\n",
    "    val_dataloaders=val_dataloader,\n",
    ")"
   ]
  },
  {
   "cell_type": "code",
   "execution_count": null,
   "metadata": {},
   "outputs": [
    {
     "name": "stderr",
     "output_type": "stream",
     "text": [
      "\u001b[32m[I 2021-01-13 18:32:03,315]\u001b[0m A new study created in memory with name: no-name-5a5b5b74-51e7-4c45-8515-020c7d4cde61\u001b[0m\n",
      "GPU available: False, used: False\n",
      "TPU available: None, using: 0 TPU cores\n"
     ]
    }
   ],
   "source": [
    "study = optimize_hyperparameters(\n",
    "    train_dataloader,\n",
    "    val_dataloader,\n",
    "    model_path=\"optuna_test\",\n",
    "    n_trials=200,\n",
    "    max_epochs=50,\n",
    "    gradient_clip_val_range=(0.01, 1.0),\n",
    "    hidden_size_range=(8, 128),\n",
    "    hidden_continuous_size_range=(8, 128),\n",
    "    attention_head_size_range=(1, 4),\n",
    "    learning_rate_range=(0.001, 0.1),\n",
    "    dropout_range=(0.1, 0.3),\n",
    "    trainer_kwargs=dict(limit_train_batches=30),\n",
    "    reduce_on_plateau_patience=4,\n",
    "    use_learning_rate_finder=False,  # use Optuna to find ideal learning rate or use in-built learning rate finder\n",
    ")\n",
    "# save study results - also we can resume tuning at a later point in time\n",
    "with open(\"test_study.pkl\", \"wb\") as fout:\n",
    "    pickle.dump(study, fout)\n",
    "\n",
    "# show best hyperparameters\n",
    "print(study.best_trial.params)"
   ]
  },
  {
   "cell_type": "code",
   "execution_count": null,
   "metadata": {},
   "outputs": [],
   "source": [
    "best_model_path = trainer.checkpoint_callback.best_model_path\n",
    "best_tft = TemporalFusionTransformer.load_from_checkpoint(best_model_path)"
   ]
  },
  {
   "cell_type": "code",
   "execution_count": null,
   "metadata": {},
   "outputs": [],
   "source": [
    "actuals = torch.cat([y[0] for x, y in iter(val_dataloader)])\n",
    "predictions = best_tft.predict(val_dataloader)\n",
    "(actuals - predictions).abs().mean()"
   ]
  },
  {
   "cell_type": "code",
   "execution_count": null,
   "metadata": {},
   "outputs": [],
   "source": [
    "raw_predictions, x = best_tft.predict(val_dataloader, mode=\"raw\", return_x=True)\n",
    "best_tft.plot_prediction(x, raw_predictions,idx=0, add_loss_to_title=True,show_future_observed=True)"
   ]
  },
  {
   "cell_type": "code",
   "execution_count": null,
   "metadata": {},
   "outputs": [],
   "source": [
    "predictions, x = best_tft.predict(val_dataloader, return_x=True)\n",
    "predictions_vs_actuals = best_tft.calculate_prediction_actual_by_variable(x, predictions)\n",
    "best_tft.plot_prediction_actual_by_variable(predictions_vs_actuals);"
   ]
  }
 ],
 "metadata": {
  "kernelspec": {
   "display_name": "Python 3",
   "language": "python",
   "name": "python3"
  },
  "language_info": {
   "codemirror_mode": {
    "name": "ipython",
    "version": 3
   },
   "file_extension": ".py",
   "mimetype": "text/x-python",
   "name": "python",
   "nbconvert_exporter": "python",
   "pygments_lexer": "ipython3",
   "version": "3.7.6"
  }
 },
 "nbformat": 4,
 "nbformat_minor": 4
}
